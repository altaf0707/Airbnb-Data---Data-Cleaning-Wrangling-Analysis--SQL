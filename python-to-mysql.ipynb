{
 "cells": [
  {
   "cell_type": "code",
   "execution_count": 1,
   "id": "42580c46",
   "metadata": {},
   "outputs": [],
   "source": [
    "# pip install mysql-connector-python\n"
   ]
  },
  {
   "cell_type": "code",
   "execution_count": 2,
   "id": "34a9ab20",
   "metadata": {},
   "outputs": [],
   "source": [
    "import mysql.connector\n",
    "from mysql.connector import Error\n",
    "import pandas as pd\n",
    "import numpy as np"
   ]
  },
  {
   "cell_type": "code",
   "execution_count": null,
   "id": "a93f5020",
   "metadata": {},
   "outputs": [],
   "source": []
  },
  {
   "cell_type": "code",
   "execution_count": 3,
   "id": "e50c4dfb",
   "metadata": {},
   "outputs": [],
   "source": [
    "df = pd.read_csv('airbnb_csv.csv')"
   ]
  },
  {
   "cell_type": "code",
   "execution_count": 4,
   "id": "d262b3b7",
   "metadata": {},
   "outputs": [
    {
     "name": "stdout",
     "output_type": "stream",
     "text": [
      "<class 'pandas.core.frame.DataFrame'>\n",
      "RangeIndex: 42638 entries, 0 to 42637\n",
      "Data columns (total 18 columns):\n",
      " #   Column                          Non-Null Count  Dtype  \n",
      "---  ------                          --------------  -----  \n",
      " 0   Unnamed: 0.1                    42638 non-null  int64  \n",
      " 1   Unnamed: 0                      42638 non-null  int64  \n",
      " 2   id                              42638 non-null  int64  \n",
      " 3   name                            42624 non-null  object \n",
      " 4   host_id                         42638 non-null  int64  \n",
      " 5   host_name                       42582 non-null  object \n",
      " 6   borough                         42571 non-null  object \n",
      " 7   neighbourhood                   42638 non-null  object \n",
      " 8   latitude                        42607 non-null  float64\n",
      " 9   longitude                       42609 non-null  float64\n",
      " 10  room_type                       42552 non-null  object \n",
      " 11  price                           42602 non-null  float64\n",
      " 12  minimum_nights                  42604 non-null  float64\n",
      " 13  number_of_reviews               42613 non-null  float64\n",
      " 14  last_review                     33892 non-null  object \n",
      " 15  reviews_per_month               33902 non-null  float64\n",
      " 16  calculated_host_listings_count  42622 non-null  float64\n",
      " 17  availability_365                42596 non-null  float64\n",
      "dtypes: float64(8), int64(4), object(6)\n",
      "memory usage: 5.9+ MB\n"
     ]
    }
   ],
   "source": [
    "df.info()"
   ]
  },
  {
   "cell_type": "code",
   "execution_count": 5,
   "id": "34e3682f",
   "metadata": {
    "scrolled": true
   },
   "outputs": [
    {
     "data": {
      "text/plain": [
       "Unnamed: 0.1                         0\n",
       "Unnamed: 0                           0\n",
       "id                                   0\n",
       "name                                14\n",
       "host_id                              0\n",
       "host_name                           56\n",
       "borough                             67\n",
       "neighbourhood                        0\n",
       "latitude                            31\n",
       "longitude                           29\n",
       "room_type                           86\n",
       "price                               36\n",
       "minimum_nights                      34\n",
       "number_of_reviews                   25\n",
       "last_review                       8746\n",
       "reviews_per_month                 8736\n",
       "calculated_host_listings_count      16\n",
       "availability_365                    42\n",
       "dtype: int64"
      ]
     },
     "execution_count": 5,
     "metadata": {},
     "output_type": "execute_result"
    }
   ],
   "source": [
    "df.isnull().sum()"
   ]
  },
  {
   "cell_type": "code",
   "execution_count": 6,
   "id": "20b6771c",
   "metadata": {},
   "outputs": [
    {
     "name": "stdout",
     "output_type": "stream",
     "text": [
      "       Unnamed: 0.1  Unnamed: 0        id  \\\n",
      "0                 0           0      2539   \n",
      "1                 1           1      2595   \n",
      "2                 2           2      3647   \n",
      "3                 3           3      3831   \n",
      "4                 4           5      5099   \n",
      "...             ...         ...       ...   \n",
      "42633         42633       48887  36483152   \n",
      "42634         42634       48889  36484363   \n",
      "42635         42635       48890  36484665   \n",
      "42636         42636       48891  36485057   \n",
      "42637         42637       48892  36485431   \n",
      "\n",
      "                                                  name    host_id  \\\n",
      "0                   Clean & quiet apt home by the park       2787   \n",
      "1                                Skylit Midtown Castle       2845   \n",
      "2                  THE VILLAGE OF HARLEM....NEW YORK !       4632   \n",
      "3                      Cozy Entire Floor of Brownstone       4869   \n",
      "4            Large Cozy 1 BR Apartment In Midtown East       7322   \n",
      "...                                                ...        ...   \n",
      "42633  Garden Jewel Apartment in Williamsburg New York  208514239   \n",
      "42634                               QUIT PRIVATE HOUSE  107716952   \n",
      "42635  Charming one bedroom - newly renovated rowhouse    8232441   \n",
      "42636    Affordable room in Bushwick/East Williamsburg    6570630   \n",
      "42637          Sunny Studio at Historical Neighborhood   23492952   \n",
      "\n",
      "           host_name    borough       neighbourhood  latitude  longitude  \\\n",
      "0               John   Brooklyn          kensington  40.64749  -73.97237   \n",
      "1           Jennifer  Manhattan             midtown  40.75362  -73.98377   \n",
      "2          Elisabeth        NaN              harlem  40.80902  -73.94190   \n",
      "3        LisaRoxanne   Brooklyn        clinton hill  40.68514  -73.95976   \n",
      "4              Chris  Manhattan         murray hill  40.74767  -73.97500   \n",
      "...              ...        ...                 ...       ...        ...   \n",
      "42633          Melki   Brooklyn        williamsburg  40.71232  -73.94220   \n",
      "42634        Michael     Queens             jamaica  40.69137  -73.80844   \n",
      "42635        Sabrina   Brooklyn  bedford-stuyvesant  40.67853  -73.94995   \n",
      "42636        Marisol   Brooklyn            bushwick  40.70184  -73.93317   \n",
      "42637  Ilgar & Aysel  Manhattan              harlem  40.81475  -73.94867   \n",
      "\n",
      "             room_type  price  minimum_nights  number_of_reviews last_review  \\\n",
      "0         Private room  149.0             1.0                9.0    10/19/18   \n",
      "1      Entire home/apt  225.0             1.0                NaN     5/21/19   \n",
      "2         Private room  150.0             3.0                0.0         NaN   \n",
      "3      Entire home/apt   89.0             1.0              270.0  07-05-2019   \n",
      "4      Entire home/apt  200.0             3.0               74.0     6/22/19   \n",
      "...                ...    ...             ...                ...         ...   \n",
      "42633  Entire home/apt  170.0             1.0                0.0         NaN   \n",
      "42634     Private room   65.0             1.0                0.0         NaN   \n",
      "42635     Private room   70.0             2.0                0.0         NaN   \n",
      "42636     Private room   40.0             4.0                0.0         NaN   \n",
      "42637  Entire home/apt  115.0            10.0                0.0         NaN   \n",
      "\n",
      "       reviews_per_month  calculated_host_listings_count  availability_365  \n",
      "0                   0.21                             6.0             365.0  \n",
      "1                   0.38                             2.0               NaN  \n",
      "2                    NaN                             1.0             365.0  \n",
      "3                   4.64                             1.0             194.0  \n",
      "4                   0.59                             1.0             129.0  \n",
      "...                  ...                             ...               ...  \n",
      "42633                NaN                             3.0             365.0  \n",
      "42634                NaN                             2.0             163.0  \n",
      "42635                NaN                             2.0               9.0  \n",
      "42636                NaN                             2.0              36.0  \n",
      "42637                NaN                             1.0              27.0  \n",
      "\n",
      "[42638 rows x 18 columns]\n",
      "\n",
      "Dataframe to MySQL Data transferred successfully\n"
     ]
    }
   ],
   "source": [
    "import mysql.connector\n",
    "from mysql.connector import Error\n",
    "import pandas as pd\n",
    "import numpy as np\n",
    "\n",
    "def convert_to_float(value):\n",
    "    # Handle None values\n",
    "    if value is None:\n",
    "        return None\n",
    "\n",
    "    # Convert other values to float\n",
    "    return float(value)\n",
    "\n",
    "def dataframetosql(dataframe):\n",
    "    conn = None\n",
    "\n",
    "    try:\n",
    "        conn = mysql.connector.connect(host=\"localhost\", user=\"root\", password=\"root\", database=\"airbnb_1\", charset=\"utf8\")\n",
    "        cur = conn.cursor()\n",
    "\n",
    "        cur.execute(\"DELETE FROM project_airbnb_3\")\n",
    "        conn.commit()\n",
    "\n",
    "        # Replace NaN with None (Python's None)\n",
    "        dataframe.replace({np.nan: None}, inplace=True)\n",
    "\n",
    "        for _, rs in dataframe.iterrows():\n",
    "            index1 = int(rs[0])\n",
    "            Unnamed = int(rs[1])\n",
    "            id = int(rs[2])\n",
    "            name = str(rs[3])\n",
    "            host_id = int(rs[4])\n",
    "            host_name = str(rs[5])\n",
    "            borough = str(rs[6])\n",
    "            neighbourhood = str(rs[7])\n",
    "            latitude = convert_to_float(rs[8])\n",
    "            longitude = convert_to_float(rs[9])\n",
    "            room_type = str(rs[10])\n",
    "            price = convert_to_float(rs[11])\n",
    "            minimum_nights = convert_to_float(rs[12])\n",
    "            number_of_reviews = convert_to_float(rs[13])\n",
    "            last_review = str(rs[14])\n",
    "            reviews_per_month = convert_to_float(rs[15])\n",
    "            calculated_host_listings_count = convert_to_float(rs[16])\n",
    "            availability_365 = convert_to_float(rs[17])\n",
    "\n",
    "            query = \"INSERT INTO project_airbnb_3 (index1, Unnamed, id, namess, host_id, host_name, borough, neighbourhood, latitude, longitude, room_type, price, minimum_nights, number_of_reviews, last_review, reviews_per_month, calculated_host_listings_count, availability_365) VALUES (%s, %s, %s, %s, %s, %s, %s, %s, %s, %s, %s, %s, %s, %s, %s, %s, %s, %s)\"\n",
    "            values = (index1, Unnamed, id, name, host_id, host_name, borough, neighbourhood, latitude, longitude, room_type, price, minimum_nights, number_of_reviews, last_review, reviews_per_month, calculated_host_listings_count, availability_365)\n",
    "            cur.execute(query, values)\n",
    "            conn.commit()\n",
    "\n",
    "        cur.close()\n",
    "\n",
    "    except Error as e:\n",
    "        print(\"Error in MySQL connection:\", e)\n",
    "\n",
    "    finally:\n",
    "        if conn and conn.is_connected():\n",
    "            conn.close()\n",
    "\n",
    "# Main program\n",
    "dataframe = pd.read_csv(\"airbnb_csv.csv\")\n",
    "\n",
    "print(dataframe)\n",
    "dataframetosql(dataframe)\n",
    "print(\"\\nDataframe to MySQL Data transferred successfully\")"
   ]
  },
  {
   "cell_type": "code",
   "execution_count": null,
   "id": "7392ee7b",
   "metadata": {},
   "outputs": [],
   "source": []
  },
  {
   "cell_type": "code",
   "execution_count": null,
   "id": "d02909cc",
   "metadata": {},
   "outputs": [],
   "source": []
  },
  {
   "cell_type": "code",
   "execution_count": null,
   "id": "ff62be15",
   "metadata": {},
   "outputs": [],
   "source": []
  },
  {
   "cell_type": "code",
   "execution_count": null,
   "id": "905b1d3e",
   "metadata": {},
   "outputs": [],
   "source": []
  }
 ],
 "metadata": {
  "kernelspec": {
   "display_name": "Python 3 (ipykernel)",
   "language": "python",
   "name": "python3"
  },
  "language_info": {
   "codemirror_mode": {
    "name": "ipython",
    "version": 3
   },
   "file_extension": ".py",
   "mimetype": "text/x-python",
   "name": "python",
   "nbconvert_exporter": "python",
   "pygments_lexer": "ipython3",
   "version": "3.11.4"
  }
 },
 "nbformat": 4,
 "nbformat_minor": 5
}
